{
 "cells": [
  {
   "cell_type": "code",
   "execution_count": 41,
   "metadata": {},
   "outputs": [],
   "source": [
    "\n",
    "from GUIPlayer import show_board,choose_color,show_id_manager_interface,ask_to_play_another,setup_realtime_board_view\n",
    "import matplotlib.pyplot as plt\n",
    "from comments2 import explain_move\n",
    "# from code_Arm import move_piece,cleanup,get_pict\n",
    "\n",
    "import torch\n",
    "from sklearn.model_selection import train_test_split\n",
    "from tensorflow.keras.preprocessing.text import Tokenizer\n",
    "from tensorflow.keras.preprocessing.sequence import pad_sequences\n",
    "import matplotlib.pyplot as plt\n",
    "import pickle\n",
    "import torch\n",
    "from torchvision import transforms\n",
    "from PIL import Image\n",
    "import chess\n",
    "import chess.engine\n",
    "import chess.pgn\n",
    "import os\n",
    "import numpy as np\n",
    "import datetime\n",
    "import chess\n",
    "from tensorflow.keras.models import load_model\n",
    "import tkinter as tk\n",
    "from tkinter import messagebox\n",
    "import os"
   ]
  },
  {
   "cell_type": "code",
   "execution_count": 42,
   "metadata": {},
   "outputs": [],
   "source": [
    "engine_path=r\"stockfish\\stockfish-windows-x86-64-avx2.exe\"\n",
    "engine = chess.engine.SimpleEngine.popen_uci(engine_path)\n",
    "\n",
    "def evaluate_move( board, move_uci, time=1.0):\n",
    "\n",
    "    move = chess.Move.from_uci(move_uci)\n",
    "\n",
    "    if move in board.legal_moves:\n",
    "\n",
    "        result = engine.analyse(board, chess.engine.Limit(time=time), moves=[move])\n",
    "        evaluation_score = result[\"score\"].relative.score  # Get evaluation score\n",
    "        return evaluation_score\n",
    "    else:\n",
    "        return None\n",
    "\n"
   ]
  },
  {
   "cell_type": "code",
   "execution_count": 43,
   "metadata": {},
   "outputs": [],
   "source": [
    "\n",
    "\n",
    "\n",
    "def get_best_move(board, time_limit: float = 2.0) -> str:\n",
    "\n",
    "    with chess.engine.SimpleEngine.popen_uci(engine_path) as engine:\n",
    "        limit = chess.engine.Limit(time=time_limit)\n",
    "        \n",
    "        result = engine.play(board, limit)\n",
    "        best_move = result.move\n",
    "    \n",
    "    return best_move "
   ]
  },
  {
   "cell_type": "code",
   "execution_count": 44,
   "metadata": {},
   "outputs": [],
   "source": [
    "def load_model_and_tokenizer(id):\n",
    "    model=None\n",
    "    tokenizer=None\n",
    "    if os.path.exists(f\"models based on previous games\\\\players_models\\\\playerLSTMs{id}.h5\"):\n",
    "        model = load_model(f\"models based on previous games\\\\players_models\\\\playerLSTMs{id}.h5\")\n",
    "\n",
    "\n",
    "        # Load the tokenizer\n",
    "        with open(f\"models based on previous games\\\\players_models\\\\playertokenizer{id}.pkl\", \"rb\") as file:\n",
    "            tokenizer = pickle.load(file)\n",
    "\n",
    "    return model,tokenizer "
   ]
  },
  {
   "cell_type": "code",
   "execution_count": 45,
   "metadata": {},
   "outputs": [],
   "source": [
    "def lstm_predict(model, tokenizer, sequence):\n",
    "\n",
    "    sequence_tokenized = tokenizer.texts_to_sequences([sequence])  \n",
    "    sequence_padded = np.array(sequence_tokenized).reshape(1, -1)  \n",
    "    \n",
    "    predictions = model.predict(sequence_padded, verbose=0)  \n",
    "    predicted_index = np.argmax(predictions)  \n",
    "    return predicted_index, predictions"
   ]
  },
  {
   "cell_type": "code",
   "execution_count": 46,
   "metadata": {},
   "outputs": [],
   "source": [
    "def compute_rl_feedback(predicted_move, actual_move,board,c):\n",
    "    f={0:0.8,1:0.3,2:0.5}\n",
    "    w1=f[c] if c !=-1 else 0.5\n",
    "    w2=1-w1 if c !=-1 else 0.5,\n",
    "    E1=evaluate_move(move_uci=predicted_move,board=board)\n",
    "    E2=evaluate_move(move_uci=actual_move,board=board)\n",
    "\n",
    "    S=1 if actual_move==predicted_move else 0\n",
    "\n",
    "    R=w1*(E2-E1)+w2*S\n",
    "\n",
    "    improvementFB=\"Your learning journey is progressing. Even though you're exploring new strategies, keep focusing on the lessons from past games.\"\n",
    "    mistakeFB=\"We can adjust the lessons to match your learning style better. Stay focused and take your time.\"\n",
    "\n",
    "    comment= improvementFB if E2>E1 else mistakeFB\n",
    "\n",
    "    return R,comment"
   ]
  },
  {
   "cell_type": "code",
   "execution_count": 47,
   "metadata": {},
   "outputs": [
    {
     "name": "stderr",
     "output_type": "stream",
     "text": [
      "WARNING:absl:Compiled the loaded model, but the compiled metrics have yet to be built. `model.compile_metrics` will be empty until you train or evaluate the model.\n"
     ]
    }
   ],
   "source": [
    "model,tokenizer=load_model_and_tokenizer(1)"
   ]
  },
  {
   "cell_type": "code",
   "execution_count": 52,
   "metadata": {},
   "outputs": [
    {
     "name": "stdout",
     "output_type": "stream",
     "text": [
      "Tokenizer Vocabulary: {'c7c5': 1, 'g8f6': 2, 'g1f3': 3, 'd2d4': 4, 'g2g3': 5, 'b8d7': 6, 'd8c7': 7, 'h7h6': 8, 'e1g1': 9, 'a4a5': 10, 'e2e4': 11, 'f2f3': 12, 'h2h3': 13, 'd7d6': 14, 'b1c3': 15, 'g7g6': 16, 'f8g7': 17, 'f1g2': 18, 'd4d5': 19, 'c2c3': 20, 'e7e6': 21, 'd1c2': 22, 'a2a3': 23, 'c2d1': 24, 'e8g8': 25, 'f1h3': 26, 'a8c8': 27, 'f8d8': 28, 'e4e3': 29, 'd2e4': 30, 'b2b4': 31, 'g1g2': 32, 'g2h2': 33, 'b8c6': 34, 'd6d5': 35, 'c1e3': 36, 'f6e4': 37, 'e4c5': 38, 'e3f4': 39, 'f4g5': 40, 'e5e4': 41, 'd7e5': 42, 'g5e3': 43, 'd5d4': 44, 'd1a1': 45, 'b2a1': 46, 'g2f1': 47, 'h6h5': 48, 'd5d6': 49, 'g4g5': 50, 'g2g4': 51, 'h3h2': 52, 'f3f4': 53, 'a2a4': 54, 'e8d7': 55, 'b7b6': 56, 'c8b7': 57, 'b1d2': 58, 'd7d5': 59, 'a3a4': 60, 'f8d6': 61, 'h3g2': 62, 'c5d4': 63, 'f3d4': 64, 'e6e5': 65, 'd4f5': 66, 'd7f8': 67, 'b6a5': 68, 'd5e4': 69, 'd1a4': 70, 'f5e3': 71, 'b7g2': 72, 'f1d1': 73, 'g2a8': 74, 'f8e6': 75, 'a8e4': 76, 'e3g4': 77, 'f6g4': 78, 'c1h6': 79, 'd1d4': 80, 'e4c6': 81, 'a5b4': 82, 'f3g4': 83, 'c6a4': 84, 'h6g7': 85, 'e6g7': 86, 'e5d4': 87, 'c3c4': 88, 'd4d3': 89, 'd3d2': 90, 'a1b1': 91, 'a4c6': 92, 'c5f2': 93, 'd4c5': 94, 'a7a5': 95, 'b4b5': 96, 'c3a4': 97, 'c6b8': 98, 'd1b3': 99, 'e7e5': 100, 'a4c5': 101, 'f3d2': 102, 'a5a4': 103, 'b3a2': 104, 'c5d6': 105, 'a1c1': 106, 'c8e6': 107, 'c1d1': 108, 'e6a2': 109, 'c3d4': 110, 'd6a3': 111, 'b5b6': 112, 'e5d7': 113, 'g7f8': 114, 'c5b7': 115, 'd7b6': 116, 'f1b1': 117, 'a2b1': 118, 'e3g5': 119, 'a3b2': 120, 'b7d8': 121, 'd8f7': 122, 'g8f7': 123, 'f7e8': 124, 'e3d4': 125, 'a1d4': 126, 'd4f2': 127, 'g1f2': 128, 'a4a3': 129, 'g3g4': 130, 'e8d8': 131, 'd6d7': 132, 'b6d7': 133, 'f8c5': 134, 'f2f1': 135, 'a3a2': 136, 'a2a1r': 137, 'g2h1': 138, 'b1e4': 139, 'c2c4': 140, 'g7c3': 141, 'c1d2': 142, 'c3b2': 143, 'h2h4': 144, 'd2g5': 145, 'a1f6': 146, 'd8b6': 147, 'h4h5': 148, 'f6g5': 149, 'f3g5': 150, 'g5h7': 151, 'b6b4': 152, 'd1d2': 153, 'b4d2': 154, 'e1d2': 155, 'd2c1': 156, 'h8h7': 157, 'h1h4': 158, 'e4f6': 159, 'f6g8': 160, 'h7h5': 161, 'h4g4': 162, 'c1b1': 163, 'e6d5': 164, 'h5h3': 165, 'g4g2': 166, 'c8f5': 167, 'b1a1': 168, 'd5c4': 169, 'h2e2': 170, 'a5a6': 171, 'c6b4': 172, 'a6b7': 173, 'a8d8': 174, 'b7b8n': 175, 'e2a2': 176, 'a7a6': 177, 'a8b8': 178, 'f1d3': 179, 'f6h5': 180, 'g5d2': 181, 'h5f6': 182, 'd3e2': 183, 'f6h7': 184, 'f3h2': 185, 'g6g5': 186, 'a1a3': 187, 'h5g4': 188, 'e2g4': 189, 'c8g4': 190, 'h3g4': 191, 'c3e2': 192, 'b8g8': 193, 'a3b3': 194, 'c5c4': 195, 'b3h3': 196, 'h7f6': 197, 'h8h3': 198, 'b2b3': 199, 'd7e8': 200, 'e2c3': 201, 'h2h8': 202, 'e5g6': 203, 'c4b3': 204, 'e4e5': 205, 'f6d7': 206, 'f1e1': 207, 'd6e5': 208, 'c7c8': 209, 'd6e7': 210, 'b3c2': 211, 'b7b5': 212, 'a5b6': 213, 'a1a4': 214, 'e1e3': 215, 'c8b8': 216, 'g3g2': 217, 'b8h2': 218, 'h2d2': 219, 'a4d7': 220, 'e3e2': 221, 'c2c1q': 222, 'c1h1': 223, 'g2f2': 224, 'h8h2': 225, 'f2g3': 226, 'h2g2': 227, 'e2g2': 228, 'g7e5': 229, 'd2e3': 230}\n"
     ]
    }
   ],
   "source": [
    "print(\"Tokenizer Vocabulary:\", tokenizer.word_index)"
   ]
  },
  {
   "cell_type": "code",
   "execution_count": 48,
   "metadata": {},
   "outputs": [],
   "source": [
    "board=chess.Board()"
   ]
  },
  {
   "cell_type": "code",
   "execution_count": 49,
   "metadata": {},
   "outputs": [
    {
     "name": "stdout",
     "output_type": "stream",
     "text": [
      "WARNING:tensorflow:5 out of the last 9 calls to <function TensorFlowTrainer.make_predict_function.<locals>.one_step_on_data_distributed at 0x0000026CBA80A520> triggered tf.function retracing. Tracing is expensive and the excessive number of tracings could be due to (1) creating @tf.function repeatedly in a loop, (2) passing tensors with different shapes, (3) passing Python objects instead of tensors. For (1), please define your @tf.function outside of the loop. For (2), @tf.function has reduce_retracing=True option that can avoid unnecessary retracing. For (3), please refer to https://www.tensorflow.org/guide/function#controlling_retracing and https://www.tensorflow.org/api_docs/python/tf/function for  more details.\n"
     ]
    },
    {
     "name": "stderr",
     "output_type": "stream",
     "text": [
      "WARNING:tensorflow:5 out of the last 9 calls to <function TensorFlowTrainer.make_predict_function.<locals>.one_step_on_data_distributed at 0x0000026CBA80A520> triggered tf.function retracing. Tracing is expensive and the excessive number of tracings could be due to (1) creating @tf.function repeatedly in a loop, (2) passing tensors with different shapes, (3) passing Python objects instead of tensors. For (1), please define your @tf.function outside of the loop. For (2), @tf.function has reduce_retracing=True option that can avoid unnecessary retracing. For (3), please refer to https://www.tensorflow.org/guide/function#controlling_retracing and https://www.tensorflow.org/api_docs/python/tf/function for  more details.\n"
     ]
    },
    {
     "name": "stdout",
     "output_type": "stream",
     "text": [
      "31\n",
      "[[0.00391036 0.00453988 0.00378553 0.00377563 0.00394035 0.00466974\n",
      "  0.00394195 0.00369402 0.00430756 0.00317089 0.0043412  0.00493578\n",
      "  0.00501417 0.00490086 0.00431921 0.00382716 0.00391755 0.00380283\n",
      "  0.00478781 0.00455622 0.00394878 0.00365831 0.00382936 0.00379845\n",
      "  0.00383062 0.00396439 0.00448065 0.00399897 0.00335206 0.00504139\n",
      "  0.00523229 0.00687176 0.00450679 0.00459569 0.00412447 0.00412786\n",
      "  0.00371296 0.00372748 0.0043292  0.00372843 0.00389703 0.00400743\n",
      "  0.00331184 0.00371457 0.00415046 0.00458622 0.0043682  0.00513959\n",
      "  0.00461151 0.00418247 0.00506029 0.00430241 0.00472402 0.00549308\n",
      "  0.00479016 0.00433997 0.00394023 0.00382666 0.0038856  0.00387571\n",
      "  0.00360952 0.0037864  0.00401088 0.00391422 0.00398939 0.0040274\n",
      "  0.00489699 0.00441072 0.00424656 0.00467513 0.0049051  0.00527624\n",
      "  0.00532183 0.00488162 0.00509034 0.00507232 0.00547916 0.00559135\n",
      "  0.0062736  0.00578403 0.00527391 0.00457128 0.00548499 0.00566567\n",
      "  0.0058262  0.00560582 0.00566586 0.00467398 0.00545037 0.0053355\n",
      "  0.00519867 0.00560117 0.00475851 0.00456557 0.0037627  0.00375644\n",
      "  0.00389805 0.00373657 0.00382314 0.00372267 0.00383996 0.00338432\n",
      "  0.00342073 0.00338094 0.00325835 0.00308082 0.00404447 0.0035863\n",
      "  0.00423203 0.00393291 0.00358926 0.00364767 0.00383184 0.00367241\n",
      "  0.00502619 0.00458824 0.00513633 0.00543174 0.00529088 0.00448142\n",
      "  0.00483248 0.00493092 0.00485635 0.00608793 0.00474778 0.00426112\n",
      "  0.00468212 0.0055802  0.00583452 0.00502995 0.00588901 0.00614776\n",
      "  0.00522289 0.00524861 0.00435983 0.00391949 0.00454584 0.00504449\n",
      "  0.00512001 0.0046568  0.00385624 0.00380481 0.00396836 0.0036337\n",
      "  0.00387284 0.00381195 0.00389386 0.00382655 0.00385046 0.00377509\n",
      "  0.00379495 0.00384928 0.00376782 0.00394652 0.0037027  0.00376227\n",
      "  0.00376135 0.00360465 0.0047225  0.00394587 0.00439917 0.00391831\n",
      "  0.00466661 0.00478984 0.00461975 0.00457667 0.00492285 0.00485343\n",
      "  0.00398916 0.00436661 0.00425279 0.00388995 0.00379031 0.00423333\n",
      "  0.003802   0.003917   0.00335496 0.0037479  0.00387571 0.00386745\n",
      "  0.0036994  0.00397172 0.00400031 0.00395451 0.00389182 0.00382566\n",
      "  0.00516661 0.00475422 0.00425667 0.00459667 0.00450867 0.00441663\n",
      "  0.00334135 0.00355876 0.00354203 0.00342388 0.00328969 0.00359219\n",
      "  0.00376167 0.00438625 0.00313137 0.00426285 0.00361753 0.00348661\n",
      "  0.00359084 0.00338901 0.00350758 0.00316294 0.00311805 0.00396266\n",
      "  0.00375377 0.00424673 0.00504591 0.00480587 0.00357935 0.00437423\n",
      "  0.0033726  0.00417249 0.00524366 0.00498365 0.00519965 0.00432722\n",
      "  0.00509074 0.00383178 0.00457178 0.00444271 0.00521523 0.00451798\n",
      "  0.00563173 0.00435195 0.00440643]]\n"
     ]
    }
   ],
   "source": [
    "predicted_move, prediction = lstm_predict(model,tokenizer,[\"e2e4\"])\n",
    "print(predicted_move)\n",
    "print(prediction)"
   ]
  },
  {
   "cell_type": "code",
   "execution_count": 50,
   "metadata": {},
   "outputs": [
    {
     "ename": "TypeError",
     "evalue": "object of type 'numpy.int64' has no len()",
     "output_type": "error",
     "traceback": [
      "\u001b[1;31m---------------------------------------------------------------------------\u001b[0m",
      "\u001b[1;31mTypeError\u001b[0m                                 Traceback (most recent call last)",
      "Cell \u001b[1;32mIn[50], line 1\u001b[0m\n\u001b[1;32m----> 1\u001b[0m reward,comment \u001b[38;5;241m=\u001b[39m \u001b[43mcompute_rl_feedback\u001b[49m\u001b[43m(\u001b[49m\u001b[43mpredicted_move\u001b[49m\u001b[43m,\u001b[49m\u001b[43m \u001b[49m\u001b[38;5;124;43m\"\u001b[39;49m\u001b[38;5;124;43me2e4\u001b[39;49m\u001b[38;5;124;43m\"\u001b[39;49m\u001b[43m,\u001b[49m\u001b[43mboard\u001b[49m\u001b[43m,\u001b[49m\u001b[38;5;241;43m0\u001b[39;49m\u001b[43m)\u001b[49m\n",
      "Cell \u001b[1;32mIn[46], line 5\u001b[0m, in \u001b[0;36mcompute_rl_feedback\u001b[1;34m(predicted_move, actual_move, board, c)\u001b[0m\n\u001b[0;32m      3\u001b[0m w1\u001b[38;5;241m=\u001b[39mf[c] \u001b[38;5;28;01mif\u001b[39;00m c \u001b[38;5;241m!=\u001b[39m\u001b[38;5;241m-\u001b[39m\u001b[38;5;241m1\u001b[39m \u001b[38;5;28;01melse\u001b[39;00m \u001b[38;5;241m0.5\u001b[39m\n\u001b[0;32m      4\u001b[0m w2\u001b[38;5;241m=\u001b[39m\u001b[38;5;241m1\u001b[39m\u001b[38;5;241m-\u001b[39mw1 \u001b[38;5;28;01mif\u001b[39;00m c \u001b[38;5;241m!=\u001b[39m\u001b[38;5;241m-\u001b[39m\u001b[38;5;241m1\u001b[39m \u001b[38;5;28;01melse\u001b[39;00m \u001b[38;5;241m0.5\u001b[39m,\n\u001b[1;32m----> 5\u001b[0m E1\u001b[38;5;241m=\u001b[39m\u001b[43mevaluate_move\u001b[49m\u001b[43m(\u001b[49m\u001b[43mmove_uci\u001b[49m\u001b[38;5;241;43m=\u001b[39;49m\u001b[43mpredicted_move\u001b[49m\u001b[43m,\u001b[49m\u001b[43mboard\u001b[49m\u001b[38;5;241;43m=\u001b[39;49m\u001b[43mboard\u001b[49m\u001b[43m)\u001b[49m\n\u001b[0;32m      6\u001b[0m E2\u001b[38;5;241m=\u001b[39mevaluate_move(move_uci\u001b[38;5;241m=\u001b[39mactual_move,board\u001b[38;5;241m=\u001b[39mboard)\n\u001b[0;32m      8\u001b[0m S\u001b[38;5;241m=\u001b[39m\u001b[38;5;241m1\u001b[39m \u001b[38;5;28;01mif\u001b[39;00m actual_move\u001b[38;5;241m==\u001b[39mpredicted_move \u001b[38;5;28;01melse\u001b[39;00m \u001b[38;5;241m0\u001b[39m\n",
      "Cell \u001b[1;32mIn[42], line 6\u001b[0m, in \u001b[0;36mevaluate_move\u001b[1;34m(board, move_uci, time)\u001b[0m\n\u001b[0;32m      4\u001b[0m \u001b[38;5;28;01mdef\u001b[39;00m \u001b[38;5;21mevaluate_move\u001b[39m( board, move_uci, time\u001b[38;5;241m=\u001b[39m\u001b[38;5;241m1.0\u001b[39m):\n\u001b[1;32m----> 6\u001b[0m     move \u001b[38;5;241m=\u001b[39m \u001b[43mchess\u001b[49m\u001b[38;5;241;43m.\u001b[39;49m\u001b[43mMove\u001b[49m\u001b[38;5;241;43m.\u001b[39;49m\u001b[43mfrom_uci\u001b[49m\u001b[43m(\u001b[49m\u001b[43mmove_uci\u001b[49m\u001b[43m)\u001b[49m\n\u001b[0;32m      8\u001b[0m     \u001b[38;5;28;01mif\u001b[39;00m move \u001b[38;5;129;01min\u001b[39;00m board\u001b[38;5;241m.\u001b[39mlegal_moves:\n\u001b[0;32m     10\u001b[0m         result \u001b[38;5;241m=\u001b[39m engine\u001b[38;5;241m.\u001b[39manalyse(board, chess\u001b[38;5;241m.\u001b[39mengine\u001b[38;5;241m.\u001b[39mLimit(time\u001b[38;5;241m=\u001b[39mtime), moves\u001b[38;5;241m=\u001b[39m[move])\n",
      "File \u001b[1;32mc:\\Users\\yassi\\AppData\\Local\\Programs\\Python\\Python312\\Lib\\site-packages\\chess\\__init__.py:504\u001b[0m, in \u001b[0;36mMove.from_uci\u001b[1;34m(cls, uci)\u001b[0m\n\u001b[0;32m    502\u001b[0m \u001b[38;5;28;01mif\u001b[39;00m uci \u001b[38;5;241m==\u001b[39m \u001b[38;5;124m\"\u001b[39m\u001b[38;5;124m0000\u001b[39m\u001b[38;5;124m\"\u001b[39m:\n\u001b[0;32m    503\u001b[0m     \u001b[38;5;28;01mreturn\u001b[39;00m \u001b[38;5;28mcls\u001b[39m\u001b[38;5;241m.\u001b[39mnull()\n\u001b[1;32m--> 504\u001b[0m \u001b[38;5;28;01melif\u001b[39;00m \u001b[38;5;28;43mlen\u001b[39;49m\u001b[43m(\u001b[49m\u001b[43muci\u001b[49m\u001b[43m)\u001b[49m \u001b[38;5;241m==\u001b[39m \u001b[38;5;241m4\u001b[39m \u001b[38;5;129;01mand\u001b[39;00m \u001b[38;5;124m\"\u001b[39m\u001b[38;5;124m@\u001b[39m\u001b[38;5;124m\"\u001b[39m \u001b[38;5;241m==\u001b[39m uci[\u001b[38;5;241m1\u001b[39m]:\n\u001b[0;32m    505\u001b[0m     drop \u001b[38;5;241m=\u001b[39m PIECE_SYMBOLS\u001b[38;5;241m.\u001b[39mindex(uci[\u001b[38;5;241m0\u001b[39m]\u001b[38;5;241m.\u001b[39mlower())\n\u001b[0;32m    506\u001b[0m     square \u001b[38;5;241m=\u001b[39m SQUARE_NAMES\u001b[38;5;241m.\u001b[39mindex(uci[\u001b[38;5;241m2\u001b[39m:])\n",
      "\u001b[1;31mTypeError\u001b[0m: object of type 'numpy.int64' has no len()"
     ]
    }
   ],
   "source": [
    "reward,comment = compute_rl_feedback(predicted_move, \"e2e4\",board,0) #dealing with it later"
   ]
  },
  {
   "cell_type": "code",
   "execution_count": null,
   "metadata": {},
   "outputs": [],
   "source": []
  }
 ],
 "metadata": {
  "kernelspec": {
   "display_name": "Python 3",
   "language": "python",
   "name": "python3"
  },
  "language_info": {
   "codemirror_mode": {
    "name": "ipython",
    "version": 3
   },
   "file_extension": ".py",
   "mimetype": "text/x-python",
   "name": "python",
   "nbconvert_exporter": "python",
   "pygments_lexer": "ipython3",
   "version": "3.12.2"
  }
 },
 "nbformat": 4,
 "nbformat_minor": 2
}
